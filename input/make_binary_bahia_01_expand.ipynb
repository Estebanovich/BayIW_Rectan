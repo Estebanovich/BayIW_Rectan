{
 "cells": [
  {
   "cell_type": "markdown",
   "id": "aa9bb1a2-68c6-4dfe-b7dd-42845329bf64",
   "metadata": {},
   "source": [
    "## Make bathymetry binary file based on netCDF bathy file bahia01_expand_bat.nc\n",
    "\n",
    "In this notebook we prepare a bathymetry file for MITgcm based on the bathymetry developed by Esteban Cruz of a semi circular bay with no shelf (only slope). The bay is 120 km long and has a maximum depth of 160 m. The maximum depth in the domain is 1000 m.\n",
    "\n",
    "We will make a bathymetry for a domain of size nx = 272, ny = 320, and a horizontal spacing of approximately 2 km (a coarse bathymetry, the real dx is 1.983 km and dy is 2.327 km).\n",
    "\n",
    "The model will have 40 z levels of varying dz (starting from 2 m at the surface and increasing in thickness by 10.45% with each level).\n",
    "\n",
    "The next bathimetries will include an elongated domain alongshore of increasing dx (telescopic) to avoid recirculation since AS boundaries will be periodic, and longer cross-shelf distance."
   ]
  },
  {
   "cell_type": "code",
   "execution_count": 29,
   "id": "6e4b25f6-5feb-4a5d-9a3d-f90f297a14ed",
   "metadata": {},
   "outputs": [],
   "source": [
    "from netCDF4 import Dataset\n",
    "import cmocean as cmo\n",
    "import matplotlib.pyplot as plt\n",
    "import numpy as np \n",
    "import scipy.interpolate as sci_interp"
   ]
  },
  {
   "cell_type": "code",
   "execution_count": 30,
   "id": "97701f66-57cd-47c2-b5b5-1658df4eb719",
   "metadata": {},
   "outputs": [
    {
     "data": {
      "text/plain": [
       "17.0"
      ]
     },
     "execution_count": 30,
     "metadata": {},
     "output_type": "execute_result"
    }
   ],
   "source": [
    "272/16"
   ]
  },
  {
   "cell_type": "code",
   "execution_count": 31,
   "id": "f0d05699-02fe-4710-ac08-e3a345a9199e",
   "metadata": {},
   "outputs": [
    {
     "name": "stdout",
     "output_type": "stream",
     "text": [
      "{'X': <class 'netCDF4._netCDF4.Variable'>\n",
      "float32 X(y, x)\n",
      "    units: meters\n",
      "    description: Coordenadas X del dominio\n",
      "unlimited dimensions: \n",
      "current shape = (3235, 2490)\n",
      "filling on, default _FillValue of 9.969209968386869e+36 used, 'Y': <class 'netCDF4._netCDF4.Variable'>\n",
      "float32 Y(y, x)\n",
      "    units: meters\n",
      "    description: Coordenadas Y del dominio\n",
      "unlimited dimensions: \n",
      "current shape = (3235, 2490)\n",
      "filling on, default _FillValue of 9.969209968386869e+36 used, 'Z': <class 'netCDF4._netCDF4.Variable'>\n",
      "float32 Z(y, x)\n",
      "    units: meters\n",
      "    description: Datos de profundidad del dominio Z\n",
      "unlimited dimensions: \n",
      "current shape = (3235, 2490)\n",
      "filling on, default _FillValue of 9.969209968386869e+36 used, 'Z_sm': <class 'netCDF4._netCDF4.Variable'>\n",
      "float32 Z_sm(y, x)\n",
      "    units: meters\n",
      "    description: Datos suavizados de profundidad del dominio Z\n",
      "unlimited dimensions: \n",
      "current shape = (3235, 2490)\n",
      "filling on, default _FillValue of 9.969209968386869e+36 used}\n"
     ]
    }
   ],
   "source": [
    "\n",
    "nc_file = 'bahia01_expand_bat.nc'\n",
    "\n",
    "with Dataset(nc_file, 'r') as nbl:\n",
    "    print(nbl.variables)"
   ]
  },
  {
   "cell_type": "code",
   "execution_count": 32,
   "id": "59f7f199-2044-46f9-8992-6a0610091826",
   "metadata": {},
   "outputs": [],
   "source": [
    "with Dataset(nc_file, 'r') as nbl:\n",
    "    Xog = nbl.variables['X'][:].data\n",
    "    Yog = nbl.variables['Y'][:].data\n",
    "    Z = nbl.variables['Z_sm'][:].data"
   ]
  },
  {
   "cell_type": "code",
   "execution_count": 33,
   "id": "64378d74",
   "metadata": {},
   "outputs": [
    {
     "data": {
      "text/plain": [
       "((3235, 2490), (3235, 2490), (3235, 2490))"
      ]
     },
     "execution_count": 33,
     "metadata": {},
     "output_type": "execute_result"
    }
   ],
   "source": [
    "Xog.shape, Yog.shape, Z.shape"
   ]
  },
  {
   "cell_type": "code",
   "execution_count": 34,
   "id": "9aae7dbc",
   "metadata": {},
   "outputs": [
    {
     "name": "stdout",
     "output_type": "stream",
     "text": [
      "[21800. 21400. 21000. ... 21000. 21400. 21800.] [0. 0. 0. ... 0. 0. 0.]\n"
     ]
    }
   ],
   "source": [
    "DeltaX = np.diff(Xog)[0]\n",
    "DeltaY = np.diff(Yog)[1]\n",
    "print(DeltaX, DeltaY)\n"
   ]
  },
  {
   "cell_type": "code",
   "execution_count": 35,
   "id": "7a642c4a-7a20-488c-b308-409c91e98c0b",
   "metadata": {},
   "outputs": [
    {
     "name": "stdout",
     "output_type": "stream",
     "text": [
      "left x-limit is -843000.0 m, and right x-limit is 843000.0 m\n",
      "bottom y-limit is -682000.0 m, and top y-limit is 139000.0 m\n"
     ]
    }
   ],
   "source": [
    "# Show corners of the original bathymetry\n",
    "print(f'left x-limit is {np.min(Xog)} m, and right x-limit is {np.max(Xog)} m')\n",
    "print(f'bottom y-limit is {np.min(Yog)} m, and top y-limit is {np.max(Yog)} m')"
   ]
  },
  {
   "cell_type": "code",
   "execution_count": 36,
   "id": "5dbbbb57-196a-494f-9011-e79e66ea80e4",
   "metadata": {},
   "outputs": [
    {
     "data": {
      "text/plain": [
       "821000.0"
      ]
     },
     "execution_count": 36,
     "metadata": {},
     "output_type": "execute_result"
    }
   ],
   "source": [
    "682000 +139E3\n"
   ]
  },
  {
   "cell_type": "code",
   "execution_count": 11,
   "id": "0cb2886e",
   "metadata": {},
   "outputs": [
    {
     "name": "stdout",
     "output_type": "stream",
     "text": [
      "nx_center = 238, x_max_center = 23800.0 m, DeltaX = 200 m\n",
      "ny = 1045, y_max = 139000.0 m, y_min = -70000.0 m, DeltaY = 200 m\n",
      "ny = 1045, y_center = [-70000.  -69799.8 -69599.6 ... 138599.6 138799.8 139000. ], dely = [200.2 200.2 200.2 ... 200.2 200.2 200.2]\n"
     ]
    }
   ],
   "source": [
    "DeltaX = 200\n",
    "nx_center = 238\n",
    "x_max_center = DeltaX* nx_center/2\n",
    "#DelX=int((2*x_max_center)/nx_center)\n",
    "print(f'nx_center = {nx_center}, x_max_center = {x_max_center} m, DeltaX = {DeltaX} m')\n",
    "\n",
    "DeltaY = 200\n",
    "y_max = 139E3 # m\n",
    "y_min = -62E3-8E3 # m\n",
    "Distance = y_max - y_min\n",
    "ny = int(Distance/DeltaY)\n",
    "\n",
    "print(f'ny = {ny}, y_max = {y_max} m, y_min = {y_min} m, DeltaY = {DeltaY} m')\n",
    "\n",
    "y_center = np.round(np.linspace(y_min, y_max ,ny), decimals=1)\n",
    "dely= y_center[1:]-y_center[:-1]\n",
    "print(f'ny = {ny}, y_center = {y_center}, dely = {dely}')"
   ]
  },
  {
   "cell_type": "code",
   "execution_count": 9,
   "id": "399b0846",
   "metadata": {},
   "outputs": [
    {
     "name": "stdout",
     "output_type": "stream",
     "text": [
      "ny = 1045, y_center = [-69970.6 -69770.4 -69570.3 ... 138599.7 138799.8 139000. ]\n"
     ]
    }
   ],
   "source": [
    "#Despues debemos quitar los puntos de costa extra que no necesitamos\n",
    "# Sabemos que la costa esta en y = 0 m, la cabeza de labahia esta en y = 20000 m\n",
    "# y el talud de la bahia esta en y = -62000 m y de ahí dejamos -62000 -8000\n",
    "y_center = y_center[y_center>-70000]\n",
    "#y_center = y_center[y_center<20000]\n",
    "ny = len(y_center)\n",
    "print(f'ny = {ny}, y_center = {y_center}')"
   ]
  },
  {
   "cell_type": "code",
   "execution_count": 37,
   "id": "0fdebe02-a3a9-4f1f-a766-30e3b89a03a0",
   "metadata": {
    "scrolled": true
   },
   "outputs": [
    {
     "name": "stderr",
     "output_type": "stream",
     "text": [
      "/var/folders/md/v_9w0p656250q6gw5wc707040000gn/T/ipykernel_1640/2056120325.py:41: DeprecationWarning: `interp2d` is deprecated in SciPy 1.10 and will be removed in SciPy 1.14.0.\n",
      "\n",
      "For legacy code, nearly bug-for-bug compatible replacements are\n",
      "`RectBivariateSpline` on regular grids, and `bisplrep`/`bisplev` for\n",
      "scattered 2D data.\n",
      "\n",
      "In new code, for regular grids use `RegularGridInterpolator` instead.\n",
      "For scattered data, prefer `LinearNDInterpolator` or\n",
      "`CloughTocher2DInterpolator`.\n",
      "\n",
      "For more details see\n",
      "`https://scipy.github.io/devdocs/notebooks/interp_transition_guide.html`\n",
      "\n",
      "  f_interp = sci_interp.interp2d(Xog[0,:], Yog[:,0], Z)\n",
      "/var/folders/md/v_9w0p656250q6gw5wc707040000gn/T/ipykernel_1640/2056120325.py:44: DeprecationWarning: `interp2d` is deprecated in SciPy 1.10 and will be removed in SciPy 1.14.0.\n",
      "\n",
      "For legacy code, nearly bug-for-bug compatible replacements are\n",
      "`RectBivariateSpline` on regular grids, and `bisplrep`/`bisplev` for\n",
      "scattered 2D data.\n",
      "\n",
      "In new code, for regular grids use `RegularGridInterpolator` instead.\n",
      "For scattered data, prefer `LinearNDInterpolator` or\n",
      "`CloughTocher2DInterpolator`.\n",
      "\n",
      "For more details see\n",
      "`https://scipy.github.io/devdocs/notebooks/interp_transition_guide.html`\n",
      "\n",
      "  bathy = f_interp(x_vect,y_vect)\n"
     ]
    }
   ],
   "source": [
    "# Build x and y arrays for new bathymetry\n",
    "# Set desired number of grid points along x and y\n",
    "nx_center = 238 #De esta manera tenemos delX=2000 m\n",
    "ny = 1045 #originalmente era 320\n",
    "x_min_center = -238E2 # m Originalmente era -238E3\n",
    "x_max_center =  238E2 # m Originalmente era 238E3\n",
    "x_min_expand = - 843E3 # m\n",
    "x_max_expand =  843E3 # m\n",
    "y_min = -62E3-8E3 # m originalmente era -62E3 -440E2\n",
    "y_min_expand = -682000 # m\n",
    "y_max = 139E3 # m\n",
    "\n",
    "DelX=int((2*x_max_center)/nx_center)\n",
    "\n",
    "# Crear dominios en las regiones exteriores (-4L a -2L y 2L a 4L) con crecimiento cuadrático\n",
    "# Aseguramos que el primer incremento sea 20 m usando un factor adecuado 'k'.\n",
    "k = DelX # Ajustamos k para que el primer incremento sea 20 m\n",
    "# Crear el vector para la expansión del lado derecho de forma más eficiente\n",
    "i_values = np.arange(1, int(np.sqrt((x_max_expand - x_max_center) / k)) + 1)\n",
    "i_values_y = np.arange(1, int(np.sqrt((np.abs(y_min_expand) - np.abs(y_min)) / k)) + 1)\n",
    "x_right = x_max_center + k * i_values**2\n",
    "y_expand = y_min - (k * i_values_y**2)\n",
    "# Crear el vector para la expansión del lado izquierdo al reflejar y ordenar\n",
    "x_left = -np.flip(x_right)\n",
    "y_expand = np.flip(y_expand)\n",
    "# Quitar los valores que se superponen con el centro\n",
    "#x_left = x_left[:-1]\n",
    "#x_right = x_right[1:]\n",
    "#y_expand = y_expand[:-1]\n",
    "# Crear el centro del dominio\n",
    "x_center = np.round(np.linspace(x_min_center, x_max_center, nx_center), decimals=1)\n",
    "\n",
    "# Unir todas las regiones para formar el dominio completo en X\n",
    "x_vect = np.concatenate((x_left, x_center, x_right))\n",
    "\n",
    "y_center = np.round(np.linspace(y_min, y_max ,ny), decimals=1)\n",
    "y_vect = np.concatenate((y_expand, y_center))\n",
    "#y_vect = np.round(np.linspace(y_min, y_max ,ny), decimals=1)\n",
    "\n",
    "# Create interp function from original x, y and depth\n",
    "f_interp = sci_interp.interp2d(Xog[0,:], Yog[:,0], Z)\n",
    "\n",
    "# Interpolate into desired x and y vectors\n",
    "bathy = f_interp(x_vect,y_vect)"
   ]
  },
  {
   "cell_type": "code",
   "execution_count": 27,
   "id": "9f5b1883",
   "metadata": {},
   "outputs": [
    {
     "name": "stdout",
     "output_type": "stream",
     "text": [
      "x_center.shape = (238,), y_center.shape = (1045,)\n",
      "delx.shape = (237,), dely.shape = (1044,)\n",
      "[200.8 200.9 200.8 200.9 200.8 200.9 200.8 200.9 200.8 200.8 200.9 200.8\n",
      " 200.9 200.8 200.9 200.8 200.8 200.9 200.8 200.9 200.8 200.9 200.8 200.9\n",
      " 200.8 200.8 200.9 200.8 200.9 200.8 200.9 200.8 200.8 200.9 200.8 200.9\n",
      " 200.8 200.9 200.8 200.9 200.8 200.8 200.9 200.8 200.9 200.8 200.9 200.8\n",
      " 200.9 200.8 200.8 200.9 200.8 200.9 200.8 200.9 200.8 200.8 200.9 200.8\n",
      " 200.9 200.8 200.9 200.8 200.9 200.8 200.8 200.9 200.8 200.9 200.8 200.9\n",
      " 200.8 200.8 200.9 200.8 200.9 200.8 200.9 200.8 200.9 200.8 200.8 200.9\n",
      " 200.8 200.9 200.8 200.9 200.8 200.8 200.9 200.8 200.9 200.8 200.9 200.8\n",
      " 200.9 200.8 200.8 200.9 200.8 200.9 200.8 200.9 200.8 200.9 200.8 200.8\n",
      " 200.9 200.8 200.9 200.8 200.9 200.8 200.8 200.9 200.8 200.9 200.8 200.9\n",
      " 200.8 200.9 200.8 200.8 200.9 200.8 200.9 200.8 200.9 200.8 200.8 200.9\n",
      " 200.8 200.9 200.8 200.9 200.8 200.9 200.8 200.8 200.9 200.8 200.9 200.8\n",
      " 200.9 200.8 200.9 200.8 200.8 200.9 200.8 200.9 200.8 200.9 200.8 200.8\n",
      " 200.9 200.8 200.9 200.8 200.9 200.8 200.9 200.8 200.8 200.9 200.8 200.9\n",
      " 200.8 200.9 200.8 200.8 200.9 200.8 200.9 200.8 200.9 200.8 200.9 200.8\n",
      " 200.8 200.9 200.8 200.9 200.8 200.9 200.8 200.8 200.9 200.8 200.9 200.8\n",
      " 200.9 200.8 200.9 200.8 200.8 200.9 200.8 200.9 200.8 200.9 200.8 200.9\n",
      " 200.8 200.8 200.9 200.8 200.9 200.8 200.9 200.8 200.8 200.9 200.8 200.9\n",
      " 200.8 200.9 200.8 200.9 200.8 200.8 200.9 200.8 200.9 200.8 200.9 200.8\n",
      " 200.8 200.9 200.8 200.9 200.8 200.9 200.8 200.9 200.8] [200.2 200.2 200.2 ... 200.2 200.2 200.2]\n"
     ]
    }
   ],
   "source": [
    "delx = x_center[1:]-x_center[:-1]\n",
    "dely = y_center[1:]-y_center[:-1]\n",
    "print(f'x_center.shape = {x_center.shape}, y_center.shape = {y_center.shape}')\n",
    "print(f'delx.shape = {delx.shape}, dely.shape = {dely.shape}')\n",
    "print(delx, dely)"
   ]
  },
  {
   "cell_type": "code",
   "execution_count": 19,
   "id": "0cb086f0-41b4-467b-9122-14ac0b67eb77",
   "metadata": {},
   "outputs": [
    {
     "name": "stdout",
     "output_type": "stream",
     "text": [
      "(1100, 366)\n",
      "(1100,)\n"
     ]
    }
   ],
   "source": [
    "print(bathy.shape)\n",
    "print(y_vect.shape)"
   ]
  },
  {
   "cell_type": "code",
   "execution_count": 38,
   "id": "4fc156d6",
   "metadata": {},
   "outputs": [
    {
     "name": "stdout",
     "output_type": "stream",
     "text": [
      "bathy.shape = (1100, 366)\n",
      "bathy_sub.shape = (505, 366)\n"
     ]
    }
   ],
   "source": [
    "# Construimos una máscara booleana\n",
    "mask_Ydomain = (y_vect < 20000)  # array de True/False, longitud = len(y_vect)\n",
    "\n",
    "# Aplicamos la máscara tanto a bathy como a y_vect\n",
    "bathy_sub = bathy[mask_Ydomain, :]   # Filtramos filas\n",
    "y_vect_sub = y_vect[mask_Ydomain]    # Filtramos las coordenadas y\n",
    "print(f'bathy.shape = {bathy.shape}')\n",
    "print(f'bathy_sub.shape = {bathy_sub.shape}')\n"
   ]
  },
  {
   "cell_type": "code",
   "execution_count": null,
   "id": "4dfb677e",
   "metadata": {},
   "outputs": [
    {
     "data": {
      "text/plain": [
       "19886.0"
      ]
     },
     "execution_count": 10,
     "metadata": {},
     "output_type": "execute_result"
    }
   ],
   "source": [
    "y_vect_sub[2]"
   ]
  },
  {
   "cell_type": "code",
   "execution_count": null,
   "id": "95bc4b69-9b19-4ab6-99ed-deed3447a344",
   "metadata": {},
   "outputs": [
    {
     "name": "stdout",
     "output_type": "stream",
     "text": [
      "(496, 352)\n",
      "(496,)\n"
     ]
    }
   ],
   "source": [
    "#Necesitoamos que nx=272 y ny=320, entonces seccionamos bathy y y_vect\n",
    "# Con las nuevas dimensiones de la bahía\n",
    "#  Necesitamos (ny=496, nx=352) y actualmente tenemos (ny= 505, nx= 366)\n",
    "# Entonces necesitamos cortar 9 filas y 14 columnas \n",
    "#Modificamos las dimensiones de la bahía\n",
    "bathy=bathy_sub\n",
    "y_vect = y_vect_sub\n",
    "\n",
    "#Recortamos las columnas de manera simétrica (el dominio en x)\n",
    "bathy=bathy[:,7:-7]\n",
    "x_vect = x_vect[7:-7]\n",
    "print(x_vect.shape)\n",
    "\n",
    "#Recortamos las filas (el dominio en y)\n",
    "bathy=bathy[9:,:]\n",
    "y_vect = y_vect_sub\n",
    "y_vect = y_vect[9:]\n",
    "\n",
    "print(bathy.shape)\n",
    "print(y_vect.shape)"
   ]
  },
  {
   "cell_type": "code",
   "execution_count": 40,
   "id": "213dbe39-4ef8-4221-bb23-5247a2db0fac",
   "metadata": {},
   "outputs": [
    {
     "name": "stdout",
     "output_type": "stream",
     "text": [
      "(352,)\n",
      "(496,)\n"
     ]
    }
   ],
   "source": [
    "#x_vect = x_vect[7:-7]\n",
    "print(x_vect.shape)\n",
    "print(y_vect.shape)"
   ]
  },
  {
   "cell_type": "code",
   "execution_count": 41,
   "id": "cc68cdf0-be61-49e6-8550-58c32ed60030",
   "metadata": {},
   "outputs": [
    {
     "data": {
      "text/plain": [
       "'dominio_bath.png'"
      ]
     },
     "execution_count": 41,
     "metadata": {},
     "output_type": "execute_result"
    },
    {
     "data": {
      "image/png": "[encoded data removed]",
      "text/plain": [
       "<Figure size 900x700 with 2 Axes>"
      ]
     },
     "metadata": {},
     "output_type": "display_data"
    }
   ],
   "source": [
    "# Plot interp bathymetry\n",
    "\n",
    "fig, ax = plt.subplots(1,1,figsize=(9,7))\n",
    "pc = ax.pcolormesh(x_vect/1000,y_vect/1000,bathy, cmap=cmo.cm.deep_r)\n",
    "cb = plt.colorbar(pc)\n",
    "\n",
    "ax.contour(x_vect/1000,y_vect/1000,-bathy, colors='0.5', levels=[250])\n",
    "ax.contour(x_vect/1000,y_vect/1000,-bathy, colors='k', levels=[0])\n",
    "\n",
    "cb.set_label('profundidad / m')\n",
    "ax.set_xlabel('Distancia meriodional (km)')\n",
    "ax.set_ylabel('Distancia zonal (km)')\n",
    "\n",
    "ax.set_aspect(1)\n",
    "\n",
    "# Save the plot as a PNG file\n",
    "file_path = \"dominio_bath.png\"\n",
    "plt.savefig(file_path, dpi=300)\n",
    "file_path"
   ]
  },
  {
   "cell_type": "code",
   "execution_count": 42,
   "id": "687eb390-0bb1-4f67-b88a-38c48e4eae2c",
   "metadata": {},
   "outputs": [
    {
     "data": {
      "text/plain": [
       "Text(0, 0.5, 'Depth (m)')"
      ]
     },
     "execution_count": 42,
     "metadata": {},
     "output_type": "execute_result"
    },
    {
     "data": {
      "image/png": "[encoded data removed]",
      "text/plain": [
       "<Figure size 640x480 with 1 Axes>"
      ]
     },
     "metadata": {},
     "output_type": "display_data"
    }
   ],
   "source": [
    "# Check some cross-shelf profiles starting from the center of the bay (0 km)\n",
    "for ii in range(120,186,8):\n",
    "    plt.plot(y_vect[:]/1E3,bathy[:,ii], label=f'{x_vect[ii]/1E3:1.1f} km')\n",
    "plt.legend()\n",
    "plt.xlabel('Cross-shelf distance (km)')\n",
    "plt.ylabel('Depth (m)')"
   ]
  },
  {
   "cell_type": "code",
   "execution_count": 43,
   "id": "52588e07-7f46-42c6-bcf0-c62a49514a6a",
   "metadata": {},
   "outputs": [
    {
     "name": "stdout",
     "output_type": "stream",
     "text": [
      "[22600.  22200.  21800.  21400.  21000.  20600.  20200.  19800.  19400.\n",
      " 19000.  18600.  18200.  17800.  17400.  17000.  16600.  16200.  15800.\n",
      " 15400.  15000.  14600.  14200.  13800.  13400.  13000.  12600.  12200.\n",
      " 11800.  11400.  11000.  10600.  10200.   9800.   9400.   9000.   8600.\n",
      "  8200.   7800.   7400.   7000.   6600.   6200.   5800.   5400.   5000.\n",
      "  4600.   4200.   3800.   3400.   3000.   2600.   2200.   1800.   1400.\n",
      "  1000.    600.    200.    200.8   200.9   200.8   200.9   200.8   200.9\n",
      "   200.8   200.9   200.8   200.8   200.9   200.8   200.9   200.8   200.9\n",
      "   200.8   200.8   200.9   200.8   200.9   200.8   200.9   200.8   200.9\n",
      "   200.8   200.8   200.9   200.8   200.9   200.8   200.9   200.8   200.8\n",
      "   200.9   200.8   200.9   200.8   200.9   200.8   200.9   200.8   200.8\n",
      "   200.9   200.8   200.9   200.8   200.9   200.8   200.9   200.8   200.8\n",
      "   200.9   200.8   200.9   200.8   200.9   200.8   200.8   200.9   200.8\n",
      "   200.9   200.8   200.9   200.8   200.9   200.8   200.8   200.9   200.8\n",
      "   200.9   200.8   200.9   200.8   200.8   200.9   200.8   200.9   200.8\n",
      "   200.9   200.8   200.9   200.8   200.8   200.9   200.8   200.9   200.8\n",
      "   200.9   200.8   200.8   200.9   200.8   200.9   200.8   200.9   200.8\n",
      "   200.9   200.8   200.8   200.9   200.8   200.9   200.8   200.9   200.8\n",
      "   200.9   200.8   200.8   200.9   200.8   200.9   200.8   200.9   200.8\n",
      "   200.8   200.9   200.8   200.9   200.8   200.9   200.8   200.9   200.8\n",
      "   200.8   200.9   200.8   200.9   200.8   200.9   200.8   200.8   200.9\n",
      "   200.8   200.9   200.8   200.9   200.8   200.9   200.8   200.8   200.9\n",
      "   200.8   200.9   200.8   200.9   200.8   200.9   200.8   200.8   200.9\n",
      "   200.8   200.9   200.8   200.9   200.8   200.8   200.9   200.8   200.9\n",
      "   200.8   200.9   200.8   200.9   200.8   200.8   200.9   200.8   200.9\n",
      "   200.8   200.9   200.8   200.8   200.9   200.8   200.9   200.8   200.9\n",
      "   200.8   200.9   200.8   200.8   200.9   200.8   200.9   200.8   200.9\n",
      "   200.8   200.8   200.9   200.8   200.9   200.8   200.9   200.8   200.9\n",
      "   200.8   200.8   200.9   200.8   200.9   200.8   200.9   200.8   200.9\n",
      "   200.8   200.8   200.9   200.8   200.9   200.8   200.9   200.8   200.8\n",
      "   200.9   200.8   200.9   200.8   200.9   200.8   200.9   200.8   200.8\n",
      "   200.9   200.8   200.9   200.8   200.9   200.8   200.8   200.9   200.8\n",
      "   200.9   200.8   200.9   200.8   200.9   200.8   200.    600.   1000.\n",
      "  1400.   1800.   2200.   2600.   3000.   3400.   3800.   4200.   4600.\n",
      "  5000.   5400.   5800.   6200.   6600.   7000.   7400.   7800.   8200.\n",
      "  8600.   9000.   9400.   9800.  10200.  10600.  11000.  11400.  11800.\n",
      " 12200.  12600.  13000.  13400.  13800.  14200.  14600.  15000.  15400.\n",
      " 15800.  16200.  16600.  17000.  17400.  17800.  18200.  18600.  19000.\n",
      " 19400.  19800.  20200.  20600.  21000.  21400.  21800.  22200.  22600.\n",
      " 22600. ]\n",
      "[18200.  17800.  17400.  17000.  16600.  16200.  15800.  15400.  15000.\n",
      " 14600.  14200.  13800.  13400.  13000.  12600.  12200.  11800.  11400.\n",
      " 11000.  10600.  10200.   9800.   9400.   9000.   8600.   8200.   7800.\n",
      "  7400.   7000.   6600.   6200.   5800.   5400.   5000.   4600.   4200.\n",
      "  3800.   3400.   3000.   2600.   2200.   1800.   1400.   1000.    600.\n",
      "   200.    200.2   200.2   200.2   200.2   200.2   200.1   200.2   200.2\n",
      "   200.2   200.2   200.2   200.2   200.2   200.2   200.2   200.2   200.2\n",
      "   200.1   200.2   200.2   200.2   200.2   200.2   200.2   200.2   200.2\n",
      "   200.2   200.2   200.2   200.1   200.2   200.2   200.2   200.2   200.2\n",
      "   200.2   200.2   200.2   200.2   200.2   200.2   200.1   200.2   200.2\n",
      "   200.2   200.2   200.2   200.2   200.2   200.2   200.2   200.2   200.2\n",
      "   200.1   200.2   200.2   200.2   200.2   200.2   200.2   200.2   200.2\n",
      "   200.2   200.2   200.2   200.1   200.2   200.2   200.2   200.2   200.2\n",
      "   200.2   200.2   200.2   200.2   200.2   200.2   200.1   200.2   200.2\n",
      "   200.2   200.2   200.2   200.2   200.2   200.2   200.2   200.2   200.1\n",
      "   200.2   200.2   200.2   200.2   200.2   200.2   200.2   200.2   200.2\n",
      "   200.2   200.2   200.1   200.2   200.2   200.2   200.2   200.2   200.2\n",
      "   200.2   200.2   200.2   200.2   200.2   200.1   200.2   200.2   200.2\n",
      "   200.2   200.2   200.2   200.2   200.2   200.2   200.2   200.2   200.1\n",
      "   200.2   200.2   200.2   200.2   200.2   200.2   200.2   200.2   200.2\n",
      "   200.2   200.2   200.1   200.2   200.2   200.2   200.2   200.2   200.2\n",
      "   200.2   200.2   200.2   200.2   200.2   200.1   200.2   200.2   200.2\n",
      "   200.2   200.2   200.2   200.2   200.2   200.2   200.2   200.2   200.1\n",
      "   200.2   200.2   200.2   200.2   200.2   200.2   200.2   200.2   200.2\n",
      "   200.2   200.2   200.1   200.2   200.2   200.2   200.2   200.2   200.2\n",
      "   200.2   200.2   200.2   200.2   200.1   200.2   200.2   200.2   200.2\n",
      "   200.2   200.2   200.2   200.2   200.2   200.2   200.2   200.1   200.2\n",
      "   200.2   200.2   200.2   200.2   200.2   200.2   200.2   200.2   200.2\n",
      "   200.2   200.1   200.2   200.2   200.2   200.2   200.2   200.2   200.2\n",
      "   200.2   200.2   200.2   200.2   200.1   200.2   200.2   200.2   200.2\n",
      "   200.2   200.2   200.2   200.2   200.2   200.2   200.2   200.1   200.2\n",
      "   200.2   200.2   200.2   200.2   200.2   200.2   200.2   200.2   200.2\n",
      "   200.2   200.1   200.2   200.2   200.2   200.2   200.2   200.2   200.2\n",
      "   200.2   200.2   200.2   200.2   200.1   200.2   200.2   200.2   200.2\n",
      "   200.2   200.2   200.2   200.2   200.2   200.2   200.1   200.2   200.2\n",
      "   200.2   200.2   200.2   200.2   200.2   200.2   200.2   200.2   200.2\n",
      "   200.1   200.2   200.2   200.2   200.2   200.2   200.2   200.2   200.2\n",
      "   200.2   200.2   200.2   200.1   200.2   200.2   200.2   200.2   200.2\n",
      "   200.2   200.2   200.2   200.2   200.2   200.2   200.1   200.2   200.2\n",
      "   200.2   200.2   200.2   200.2   200.2   200.2   200.2   200.2   200.2\n",
      "   200.1   200.2   200.2   200.2   200.2   200.2   200.2   200.2   200.2\n",
      "   200.2   200.2   200.2   200.1   200.2   200.2   200.2   200.2   200.2\n",
      "   200.2   200.2   200.2   200.2   200.2   200.2   200.1   200.2   200.2\n",
      "   200.2   200.2   200.2   200.2   200.2   200.2   200.2   200.2   200.1\n",
      "   200.2   200.2   200.2   200.2   200.2   200.2   200.2   200.2   200.2\n",
      "   200.2   200.2   200.1   200.2   200.2   200.2   200.2   200.2   200.2\n",
      "   200.2   200.2   200.2   200.2   200.2   200.1   200.2   200.2   200.2\n",
      "   200.2   200.2   200.2   200.2   200.2   200.2   200.2   200.2   200.1\n",
      "   200.2   200.2   200.2   200.2   200.2   200.2   200.2   200.2   200.2\n",
      "   200.2   200.2   200.1   200.2   200.2   200.2   200.2   200.2   200.2\n",
      "   200.2   200.2   200.2   200.2   200.2   200.1   200.2   200.2   200.2\n",
      "   200.2   200.2   200.2   200.2   200.2   200.2   200.2   200.2   200.1\n",
      "   200.2   200.2   200.2   200.2   200.2   200.2   200.2   200.2   200.2\n",
      "   200.2   200.2   200.1   200.2   200.2   200.2   200.2   200.2   200.2\n",
      "   200.2   200.2   200.2   200.2   200.1   200.2   200.2   200.2   200.2\n",
      "   200.2]\n"
     ]
    }
   ],
   "source": [
    "# Build grid spacing vectors dx and dy \n",
    "delx = x_vect[1:]-x_vect[:-1]\n",
    "dely = y_vect[1:]-y_vect[:-1]\n",
    "dx = np.append(delx, [delx[-1]], axis=0) # This is not the best way to do this\n",
    "dy = np.append(dely, [dely[-1]], axis=0)\n",
    "\n",
    "#Check values:\n",
    "print(dx)\n",
    "print(dy)"
   ]
  },
  {
   "cell_type": "code",
   "execution_count": 15,
   "id": "faf4af3f-3dcf-4d0d-9a32-6417aa380b62",
   "metadata": {},
   "outputs": [],
   "source": [
    "# Set filenames for binary files and data type\n",
    "#bathy_fname = 'bahia_01_noShelf_bat.bin'\n",
    "#dx_fname = 'bahia_01_noShelf_dx.bin'\n",
    "#dy_fname = 'bahia_01_noShelf_dy.bin'\n",
    "#dt = np.dtype('>f8')  # float 64 big endian"
   ]
  },
  {
   "cell_type": "code",
   "execution_count": 16,
   "id": "228ba884-48f2-42b9-8597-7b72d37ff66e",
   "metadata": {},
   "outputs": [
    {
     "data": {
      "text/plain": [
       "272"
      ]
     },
     "execution_count": 16,
     "metadata": {},
     "output_type": "execute_result"
    }
   ],
   "source": [
    "len(dx)"
   ]
  },
  {
   "cell_type": "code",
   "execution_count": 44,
   "id": "2f7cb9ff-b2d6-4ca1-bf96-5b765c64ea9e",
   "metadata": {},
   "outputs": [],
   "source": [
    "bathy_fname = 'bahia_01_expand_bat.bin'\n",
    "dx_fname = 'bahia_01_expand_dx.bin'\n",
    "dy_fname = 'bahia_01_expand_dy.bin'\n",
    "dt = np.dtype('>f8')  # float 64 big endian"
   ]
  },
  {
   "cell_type": "code",
   "execution_count": 45,
   "id": "4de0693a-e94f-47f2-929e-110703cc1daa",
   "metadata": {},
   "outputs": [
    {
     "data": {
      "image/png": "[encoded data removed]",
      "text/plain": [
       "<Figure size 640x480 with 2 Axes>"
      ]
     },
     "metadata": {},
     "output_type": "display_data"
    }
   ],
   "source": [
    "# Save binary files for dx, dy, bathy\n",
    "fileobj = open(dx_fname,mode='wb')\n",
    "dx.astype(dt).tofile(fileobj,\"\")\n",
    "fileobj.close()\n",
    "\n",
    "fileobj = open(dy_fname, mode='wb')\n",
    "dy.astype(dt).tofile(fileobj,\"\")\n",
    "fileobj.close()\n",
    "\n",
    "fileobj = open(bathy_fname, mode='wb')\n",
    "dd=bathy\n",
    "dd.astype(dt).tofile(fileobj,\"\")\n",
    "fileobj.close()\n",
    "\n",
    "# Quick check\n",
    "plt.pcolor(dd, cmap=cmo.cm.deep_r)\n",
    "plt.colorbar()\n",
    "plt.contour(dd, levels=[-1,0], colors='k')\n",
    "plt.show()"
   ]
  },
  {
   "cell_type": "code",
   "execution_count": 46,
   "id": "adfad72d-6888-4608-9b23-960dc7ff18c1",
   "metadata": {},
   "outputs": [
    {
     "data": {
      "text/plain": [
       "<matplotlib.contour.QuadContourSet at 0x335cce540>"
      ]
     },
     "execution_count": 46,
     "metadata": {},
     "output_type": "execute_result"
    },
    {
     "data": {
      "image/png": "[encoded data removed]",
      "text/plain": [
       "<Figure size 500x500 with 2 Axes>"
      ]
     },
     "metadata": {},
     "output_type": "display_data"
    }
   ],
   "source": [
    "# Check it is read correctly\n",
    "cc=np.fromfile(bathy_fname, dtype=dt)\n",
    "np.shape(cc)\n",
    "\n",
    "nx= len(x_vect)\n",
    "ny= len(y_vect)\n",
    "bF=np.reshape(cc,[nx,ny],'F') # F to read in Fortran order\n",
    "\n",
    "fig,ax = plt.subplots(1,1, figsize=(5,5))\n",
    "\n",
    "pc = ax.pcolormesh(bF, cmap=cmo.cm.deep_r)\n",
    "plt.colorbar(pc,ax=ax)\n",
    "ax.contour(bF, levels=[-20,0], colors='k')"
   ]
  },
  {
   "cell_type": "markdown",
   "id": "7ffef5a2-2513-416f-8e27-27a49253a393",
   "metadata": {
    "tags": []
   },
   "source": [
    "Yes, that is how it should look to go into MITgcm."
   ]
  },
  {
   "cell_type": "code",
   "execution_count": 20,
   "id": "54642050-3b77-4a0a-a310-2e10621c0b09",
   "metadata": {},
   "outputs": [
    {
     "name": "stdout",
     "output_type": "stream",
     "text": [
      "Variable          Type              Data/Info\n",
      "---------------------------------------------\n",
      "Dataset           type              <class 'netCDF4._netCDF4.Dataset'>\n",
      "DelX              int               2000\n",
      "NamespaceMagics   MetaHasTraits     <class 'IPython.core.magi<...>mespace.NamespaceMagics'>\n",
      "Xog               ndarray           3235x2490: 8055150 elems, type `float32`, 32220600 bytes (30.72795867919922 Mb)\n",
      "Yog               ndarray           3235x2490: 8055150 elems, type `float32`, 32220600 bytes (30.72795867919922 Mb)\n",
      "Z                 ndarray           3235x2490: 8055150 elems, type `float32`, 32220600 bytes (30.72795867919922 Mb)\n",
      "ax                Axes              Axes(0.125,0.11;0.62x0.77)\n",
      "bF                ndarray           272x320: 87040 elems, type `>f8`, 696320 bytes (680.0 kb)\n",
      "bathy             ndarray           320x272: 87040 elems, type `float64`, 696320 bytes (680.0 kb)\n",
      "bathy_fname       str               bahia_01_expand_bat.bin\n",
      "cb                Colorbar          <matplotlib.colorbar.Colo<...>ar object at 0x3239ea090>\n",
      "cc                ndarray           87040: 87040 elems, type `>f8`, 696320 bytes (680.0 kb)\n",
      "cmo               module            <module 'cmocean' from '/<...>ges/cmocean/__init__.py'>\n",
      "dd                ndarray           320x272: 87040 elems, type `float64`, 696320 bytes (680.0 kb)\n",
      "delx              ndarray           271: 271 elems, type `float64`, 2168 bytes\n",
      "dely              ndarray           319: 319 elems, type `float64`, 2552 bytes\n",
      "dt                Float64DType      >f8\n",
      "dx                ndarray           272: 272 elems, type `float64`, 2176 bytes\n",
      "dx_fname          str               bahia_01_expand_dx.bin\n",
      "dy                ndarray           320: 320 elems, type `float64`, 2560 bytes\n",
      "dy_fname          str               bahia_01_expand_dy.bin\n",
      "f_interp          interp2d          <scipy.interpolate._inter<...>2d object at 0x30c6dd0d0>\n",
      "fig               Figure            Figure(500x500)\n",
      "file_path         str               dominio_bath.png\n",
      "fileobj           BufferedWriter    <_io.BufferedWriter name=<...>bahia_01_expand_bat.bin'>\n",
      "get_ipython       function          <function get_ipython at 0x105e4a480>\n",
      "i_values          ndarray           17: 17 elems, type `int64`, 136 bytes\n",
      "i_values_y        ndarray           9: 9 elems, type `int64`, 72 bytes\n",
      "ii                int               184\n",
      "json              module            <module 'json' from '/opt<...>on3.12/json/__init__.py'>\n",
      "k                 int               2000\n",
      "nbl               Dataset           <object with id 13115669056 (str() failed)>\n",
      "nc_file           str               bahia01_expand_bat.nc\n",
      "np                module            <module 'numpy' from '/op<...>kages/numpy/__init__.py'>\n",
      "nx                int               272\n",
      "nx_center         int               238\n",
      "ny                int               320\n",
      "pc                QuadMesh          <matplotlib.collections.Q<...>sh object at 0x323d04080>\n",
      "plt               module            <module 'matplotlib.pyplo<...>es/matplotlib/pyplot.py'>\n",
      "sci_interp        module            <module 'scipy.interpolat<...>interpolate/__init__.py'>\n",
      "sys               module            <module 'sys' (built-in)>\n",
      "x_center          ndarray           238: 238 elems, type `float64`, 1904 bytes\n",
      "x_left            ndarray           17: 17 elems, type `float64`, 136 bytes\n",
      "x_max_center      float             238000.0\n",
      "x_max_expand      float             843000.0\n",
      "x_min_center      float             -238000.0\n",
      "x_min_expand      float             -843000.0\n",
      "x_right           ndarray           17: 17 elems, type `float64`, 136 bytes\n",
      "x_vect            ndarray           272: 272 elems, type `float64`, 2176 bytes\n",
      "y_center          ndarray           320: 320 elems, type `float64`, 2560 bytes\n",
      "y_expand          ndarray           9: 9 elems, type `float64`, 72 bytes\n",
      "y_max             float             139000.0\n",
      "y_min             float             -502000.0\n",
      "y_min_expand      int               -682000\n",
      "y_vect            ndarray           320: 320 elems, type `float64`, 2560 bytes\n"
     ]
    }
   ],
   "source": [
    "%whos"
   ]
  },
  {
   "cell_type": "code",
   "execution_count": null,
   "id": "934d68be-211e-4801-bcfa-a8d376b94d89",
   "metadata": {},
   "outputs": [],
   "source": []
  },
  {
   "cell_type": "code",
   "execution_count": 21,
   "id": "5a1e3646-bab9-4a00-8845-11ca15ef4729",
   "metadata": {},
   "outputs": [],
   "source": [
    "sNx =   17\n",
    "sNy =   20\n",
    "OLx =   3\n",
    "OLy =   3\n",
    "nSx =   16\n",
    "nSy =   16\n",
    "nPx =   1\n",
    "nPy =   1\n",
    "Nx  = sNx*nSx*nPx \n",
    "Ny  = sNy*nSy*nPy"
   ]
  },
  {
   "cell_type": "code",
   "execution_count": 22,
   "id": "a74cf226-3e35-46ef-93e0-fc46f898952b",
   "metadata": {},
   "outputs": [
    {
     "data": {
      "text/plain": [
       "20.0"
      ]
     },
     "execution_count": 22,
     "metadata": {},
     "output_type": "execute_result"
    }
   ],
   "source": [
    "320/16"
   ]
  },
  {
   "cell_type": "code",
   "execution_count": 23,
   "id": "6a0cde09-e23a-4638-ac81-4aa1e29d8305",
   "metadata": {},
   "outputs": [
    {
     "data": {
      "text/plain": [
       "272"
      ]
     },
     "execution_count": 23,
     "metadata": {},
     "output_type": "execute_result"
    }
   ],
   "source": [
    "Nx"
   ]
  },
  {
   "cell_type": "code",
   "execution_count": 24,
   "id": "8a890419-7f3d-4431-8cea-c3f73ad1a07a",
   "metadata": {},
   "outputs": [
    {
     "data": {
      "text/plain": [
       "320"
      ]
     },
     "execution_count": 24,
     "metadata": {},
     "output_type": "execute_result"
    }
   ],
   "source": [
    "Ny"
   ]
  },
  {
   "cell_type": "code",
   "execution_count": null,
   "id": "50a43fe9-cc3f-4c15-a611-fcbaa9c35658",
   "metadata": {},
   "outputs": [],
   "source": []
  },
  {
   "cell_type": "code",
   "execution_count": null,
   "id": "c6032059-998c-41d0-aacd-bfd8abdf7c0d",
   "metadata": {},
   "outputs": [],
   "source": []
  },
  {
   "cell_type": "code",
   "execution_count": null,
   "id": "c41b7d68-17a6-4b64-b320-5721af5649e9",
   "metadata": {},
   "outputs": [],
   "source": []
  }
 ],
 "metadata": {
  "kernelspec": {
   "display_name": "base",
   "language": "python",
   "name": "python3"
  },
  "language_info": {
   "codemirror_mode": {
    "name": "ipython",
    "version": 3
   },
   "file_extension": ".py",
   "mimetype": "text/x-python",
   "name": "python",
   "nbconvert_exporter": "python",
   "pygments_lexer": "ipython3",
   "version": "3.12.4"
  }
 },
 "nbformat": 4,
 "nbformat_minor": 5
}
