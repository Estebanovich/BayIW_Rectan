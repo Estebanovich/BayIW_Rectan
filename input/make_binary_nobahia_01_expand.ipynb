{
 "cells": [
  {
   "cell_type": "markdown",
   "id": "aa9bb1a2-68c6-4dfe-b7dd-42845329bf64",
   "metadata": {},
   "source": [
    "## Make bathymetry binary file based on netCDF bathy file bahia01_expand_bat.nc\n",
    "\n",
    "In this notebook we prepare a bathymetry file for MITgcm based on the bathymetry developed by Esteban Cruz of a semi circular bay with no shelf (only slope). The bay is 120 km long and has a maximum depth of 160 m. The maximum depth in the domain is 1000 m.\n",
    "\n",
    "We will make a bathymetry for a domain of size nx = 240, ny = 180, and a horizontal spacing of approximately 2 km (a coarse bathymetry, the real dx is 1.983 km and dy is 2.327 km).\n",
    "\n",
    "The model will have 40 z levels of varying dz (starting from 2 m at the surface and increasing in thickness by 10.45% with each level).\n",
    "\n",
    "The next bathimetries will include an elongated domain alongshore of increasing dx (telescopic) to avoid recirculation since AS boundaries will be periodic, and longer cross-shelf distance."
   ]
  },
  {
   "cell_type": "code",
   "execution_count": 1,
   "id": "6e4b25f6-5feb-4a5d-9a3d-f90f297a14ed",
   "metadata": {},
   "outputs": [],
   "source": [
    "from netCDF4 import Dataset\n",
    "import cmocean as cmo\n",
    "import matplotlib.pyplot as plt\n",
    "import numpy as np\n",
    "import scipy.interpolate as sci_interp"
   ]
  },
  {
   "cell_type": "code",
   "execution_count": 2,
   "id": "97701f66-57cd-47c2-b5b5-1658df4eb719",
   "metadata": {},
   "outputs": [
    {
     "data": {
      "text/plain": [
       "17.0"
      ]
     },
     "execution_count": 2,
     "metadata": {},
     "output_type": "execute_result"
    }
   ],
   "source": [
    "272/16"
   ]
  },
  {
   "cell_type": "code",
   "execution_count": 3,
   "id": "f0d05699-02fe-4710-ac08-e3a345a9199e",
   "metadata": {},
   "outputs": [
    {
     "name": "stdout",
     "output_type": "stream",
     "text": [
      "{'X': <class 'netCDF4._netCDF4.Variable'>\n",
      "float32 X(y, x)\n",
      "    units: meters\n",
      "    description: Coordenadas X del dominio\n",
      "unlimited dimensions: \n",
      "current shape = (3235, 2490)\n",
      "filling on, default _FillValue of 9.969209968386869e+36 used, 'Y': <class 'netCDF4._netCDF4.Variable'>\n",
      "float32 Y(y, x)\n",
      "    units: meters\n",
      "    description: Coordenadas Y del dominio\n",
      "unlimited dimensions: \n",
      "current shape = (3235, 2490)\n",
      "filling on, default _FillValue of 9.969209968386869e+36 used, 'Z': <class 'netCDF4._netCDF4.Variable'>\n",
      "float32 Z(y, x)\n",
      "    units: meters\n",
      "    description: Datos de profundidad del dominio Z\n",
      "unlimited dimensions: \n",
      "current shape = (3235, 2490)\n",
      "filling on, default _FillValue of 9.969209968386869e+36 used, 'Z_sm': <class 'netCDF4._netCDF4.Variable'>\n",
      "float32 Z_sm(y, x)\n",
      "    units: meters\n",
      "    description: Datos suavizados de profundidad del dominio Z\n",
      "unlimited dimensions: \n",
      "current shape = (3235, 2490)\n",
      "filling on, default _FillValue of 9.969209968386869e+36 used}\n"
     ]
    }
   ],
   "source": [
    "\n",
    "nc_file = 'nobahia01_expand_bat.nc'\n",
    "\n",
    "with Dataset(nc_file, 'r') as nbl:\n",
    "    print(nbl.variables)"
   ]
  },
  {
   "cell_type": "code",
   "execution_count": 4,
   "id": "59f7f199-2044-46f9-8992-6a0610091826",
   "metadata": {},
   "outputs": [],
   "source": [
    "with Dataset(nc_file, 'r') as nbl:\n",
    "    Xog = nbl.variables['X'][:].data\n",
    "    Yog = nbl.variables['Y'][:].data\n",
    "    Z = nbl.variables['Z_sm'][:].data"
   ]
  },
  {
   "cell_type": "code",
   "execution_count": 5,
   "id": "7a642c4a-7a20-488c-b308-409c91e98c0b",
   "metadata": {},
   "outputs": [
    {
     "name": "stdout",
     "output_type": "stream",
     "text": [
      "left x-limit is -843000.0 m, and right x-limit is 843000.0 m\n",
      "bottom y-limit is -682000.0 m, and top y-limit is 139000.0 m\n"
     ]
    }
   ],
   "source": [
    "# Show corners of the original bathymetry\n",
    "print(f'left x-limit is {np.min(Xog)} m, and right x-limit is {np.max(Xog)} m')\n",
    "print(f'bottom y-limit is {np.min(Yog)} m, and top y-limit is {np.max(Yog)} m')"
   ]
  },
  {
   "cell_type": "code",
   "execution_count": 6,
   "id": "0fdebe02-a3a9-4f1f-a766-30e3b89a03a0",
   "metadata": {
    "scrolled": true
   },
   "outputs": [
    {
     "name": "stderr",
     "output_type": "stream",
     "text": [
      "/var/folders/md/v_9w0p656250q6gw5wc707040000gn/T/ipykernel_4261/444631473.py:41: DeprecationWarning: `interp2d` is deprecated in SciPy 1.10 and will be removed in SciPy 1.14.0.\n",
      "\n",
      "For legacy code, nearly bug-for-bug compatible replacements are\n",
      "`RectBivariateSpline` on regular grids, and `bisplrep`/`bisplev` for\n",
      "scattered 2D data.\n",
      "\n",
      "In new code, for regular grids use `RegularGridInterpolator` instead.\n",
      "For scattered data, prefer `LinearNDInterpolator` or\n",
      "`CloughTocher2DInterpolator`.\n",
      "\n",
      "For more details see\n",
      "`https://scipy.github.io/devdocs/notebooks/interp_transition_guide.html`\n",
      "\n",
      "  f_interp = sci_interp.interp2d(Xog[0,:], Yog[:,0], Z)\n",
      "/var/folders/md/v_9w0p656250q6gw5wc707040000gn/T/ipykernel_4261/444631473.py:44: DeprecationWarning: `interp2d` is deprecated in SciPy 1.10 and will be removed in SciPy 1.14.0.\n",
      "\n",
      "For legacy code, nearly bug-for-bug compatible replacements are\n",
      "`RectBivariateSpline` on regular grids, and `bisplrep`/`bisplev` for\n",
      "scattered 2D data.\n",
      "\n",
      "In new code, for regular grids use `RegularGridInterpolator` instead.\n",
      "For scattered data, prefer `LinearNDInterpolator` or\n",
      "`CloughTocher2DInterpolator`.\n",
      "\n",
      "For more details see\n",
      "`https://scipy.github.io/devdocs/notebooks/interp_transition_guide.html`\n",
      "\n",
      "  bathy = f_interp(x_vect,y_vect)\n"
     ]
    }
   ],
   "source": [
    "# Build x and y arrays for new bathymetry\n",
    "# Set desired number of grid points along x and y\n",
    "nx_center = 238 #De esta manera tenemos delX=2000 m\n",
    "ny = 320\n",
    "x_min_center = -238E3 # m\n",
    "x_max_center =  238E3 # m\n",
    "x_min_expand = - 843E3 # m\n",
    "x_max_expand =  843E3 # m\n",
    "y_min = -62E3-440E3 # m \n",
    "y_min_expand = -682000 # m\n",
    "y_max = 139E3 # m\n",
    "\n",
    "DelX=int((2*x_max_center)/nx_center)\n",
    "\n",
    "# Crear dominios en las regiones exteriores (-4L a -2L y 2L a 4L) con crecimiento cuadrático\n",
    "# Aseguramos que el primer incremento sea 20 m usando un factor adecuado 'k'.\n",
    "k = DelX # Ajustamos k para que el primer incremento sea 20 m\n",
    "# Crear el vector para la expansión del lado derecho de forma más eficiente\n",
    "i_values = np.arange(1, int(np.sqrt((x_max_expand - x_max_center) / k)) + 1)\n",
    "i_values_y = np.arange(1, int(np.sqrt((np.abs(y_min_expand) - np.abs(y_min)) / k)) + 1)\n",
    "x_right = x_max_center + k * i_values**2\n",
    "y_expand = y_min - (k * i_values_y**2)\n",
    "# Crear el vector para la expansión del lado izquierdo al reflejar y ordenar\n",
    "x_left = -np.flip(x_right)\n",
    "y_expand = np.flip(y_expand)\n",
    "# Quitar los valores que se superponen con el centro\n",
    "#x_left = x_left[:-1]\n",
    "#x_right = x_right[1:]\n",
    "#y_expand = y_expand[:-1]\n",
    "# Crear el centro del dominio\n",
    "x_center = np.round(np.linspace(x_min_center, x_max_center, nx_center), decimals=1)\n",
    "\n",
    "# Unir todas las regiones para formar el dominio completo en X\n",
    "x_vect = np.concatenate((x_left, x_center, x_right))\n",
    "\n",
    "y_center = np.round(np.linspace(y_min, y_max ,ny), decimals=1)\n",
    "y_vect = np.concatenate((y_expand, y_center))\n",
    "#y_vect = np.round(np.linspace(y_min, y_max ,ny), decimals=1)\n",
    "\n",
    "# Create interp function from original x, y and depth\n",
    "f_interp = sci_interp.interp2d(Xog[0,:], Yog[:,0], Z)\n",
    "\n",
    "# Interpolate into desired x and y vectors\n",
    "bathy = f_interp(x_vect,y_vect)"
   ]
  },
  {
   "cell_type": "code",
   "execution_count": 7,
   "id": "0cb086f0-41b4-467b-9122-14ac0b67eb77",
   "metadata": {},
   "outputs": [
    {
     "data": {
      "text/plain": [
       "(329, 272)"
      ]
     },
     "execution_count": 7,
     "metadata": {},
     "output_type": "execute_result"
    }
   ],
   "source": [
    "bathy.shape"
   ]
  },
  {
   "cell_type": "code",
   "execution_count": 8,
   "id": "95bc4b69-9b19-4ab6-99ed-deed3447a344",
   "metadata": {},
   "outputs": [
    {
     "name": "stdout",
     "output_type": "stream",
     "text": [
      "(320, 272)\n",
      "(320,)\n"
     ]
    }
   ],
   "source": [
    "#Necesitoamos que nx=272 y ny=320, entonces seccionamos bathy y y_vect\n",
    "bathy=bathy[9:,:]\n",
    "y_vect = y_vect[9:]\n",
    "print(bathy.shape)\n",
    "print(y_vect.shape)"
   ]
  },
  {
   "cell_type": "code",
   "execution_count": 9,
   "id": "cc68cdf0-be61-49e6-8550-58c32ed60030",
   "metadata": {},
   "outputs": [
    {
     "data": {
      "image/png": "[encoded data removed]",
      "text/plain": [
       "<Figure size 900x700 with 2 Axes>"
      ]
     },
     "metadata": {},
     "output_type": "display_data"
    }
   ],
   "source": [
    "# Plot interp bathymetry\n",
    "fig, ax = plt.subplots(1,1,figsize=(9,7))\n",
    "pc = ax.pcolormesh(x_vect,y_vect,bathy, cmap=cmo.cm.deep_r)\n",
    "cb = plt.colorbar(pc)\n",
    "\n",
    "ax.contour(x_vect,y_vect,-bathy, colors='0.5', levels=[250])\n",
    "ax.contour(x_vect,y_vect,-bathy, colors='k', levels=[0])\n",
    "\n",
    "cb.set_label('depth / m')\n",
    "ax.set_xlabel('lon')\n",
    "ax.set_ylabel('lat')\n",
    "\n",
    "ax.set_aspect(1)"
   ]
  },
  {
   "cell_type": "code",
   "execution_count": 10,
   "id": "687eb390-0bb1-4f67-b88a-38c48e4eae2c",
   "metadata": {},
   "outputs": [
    {
     "data": {
      "text/plain": [
       "Text(0, 0.5, 'Depth (m)')"
      ]
     },
     "execution_count": 10,
     "metadata": {},
     "output_type": "execute_result"
    },
    {
     "data": {
      "image/png": "[encoded data removed]",
      "text/plain": [
       "<Figure size 640x480 with 1 Axes>"
      ]
     },
     "metadata": {},
     "output_type": "display_data"
    }
   ],
   "source": [
    "# Check some cross-shelf profiles starting from the center of the bay (0 km)\n",
    "for ii in range(120,186,8):\n",
    "    plt.plot(y_vect[:]/1E3,bathy[:,ii], label=f'{x_vect[ii]/1E3:1.1f} km')\n",
    "plt.legend()\n",
    "plt.xlabel('Cross-shelf distance (km)')\n",
    "plt.ylabel('Depth (m)')"
   ]
  },
  {
   "cell_type": "code",
   "execution_count": 11,
   "id": "52588e07-7f46-42c6-bcf0-c62a49514a6a",
   "metadata": {},
   "outputs": [
    {
     "name": "stdout",
     "output_type": "stream",
     "text": [
      "[66000.  62000.  58000.  54000.  50000.  46000.  42000.  38000.  34000.\n",
      " 30000.  26000.  22000.  18000.  14000.  10000.   6000.   2000.   2008.4\n",
      "  2008.5  2008.4  2008.5  2008.4  2008.4  2008.5  2008.4  2008.4  2008.5\n",
      "  2008.4  2008.5  2008.4  2008.4  2008.5  2008.4  2008.5  2008.4  2008.4\n",
      "  2008.5  2008.4  2008.5  2008.4  2008.4  2008.5  2008.4  2008.4  2008.5\n",
      "  2008.4  2008.5  2008.4  2008.4  2008.5  2008.4  2008.5  2008.4  2008.4\n",
      "  2008.5  2008.4  2008.5  2008.4  2008.4  2008.5  2008.4  2008.4  2008.5\n",
      "  2008.4  2008.5  2008.4  2008.4  2008.5  2008.4  2008.5  2008.4  2008.4\n",
      "  2008.5  2008.4  2008.5  2008.4  2008.4  2008.5  2008.4  2008.4  2008.5\n",
      "  2008.4  2008.5  2008.4  2008.4  2008.5  2008.4  2008.5  2008.4  2008.4\n",
      "  2008.5  2008.4  2008.5  2008.4  2008.4  2008.5  2008.4  2008.4  2008.5\n",
      "  2008.4  2008.5  2008.4  2008.4  2008.5  2008.4  2008.5  2008.4  2008.4\n",
      "  2008.5  2008.4  2008.4  2008.5  2008.4  2008.5  2008.4  2008.4  2008.5\n",
      "  2008.4  2008.5  2008.4  2008.4  2008.5  2008.4  2008.5  2008.4  2008.4\n",
      "  2008.5  2008.4  2008.4  2008.5  2008.4  2008.5  2008.4  2008.4  2008.5\n",
      "  2008.4  2008.5  2008.4  2008.4  2008.5  2008.4  2008.5  2008.4  2008.4\n",
      "  2008.5  2008.4  2008.4  2008.5  2008.4  2008.5  2008.4  2008.4  2008.5\n",
      "  2008.4  2008.5  2008.4  2008.4  2008.5  2008.4  2008.5  2008.4  2008.4\n",
      "  2008.5  2008.4  2008.4  2008.5  2008.4  2008.5  2008.4  2008.4  2008.5\n",
      "  2008.4  2008.5  2008.4  2008.4  2008.5  2008.4  2008.4  2008.5  2008.4\n",
      "  2008.5  2008.4  2008.4  2008.5  2008.4  2008.5  2008.4  2008.4  2008.5\n",
      "  2008.4  2008.5  2008.4  2008.4  2008.5  2008.4  2008.4  2008.5  2008.4\n",
      "  2008.5  2008.4  2008.4  2008.5  2008.4  2008.5  2008.4  2008.4  2008.5\n",
      "  2008.4  2008.5  2008.4  2008.4  2008.5  2008.4  2008.4  2008.5  2008.4\n",
      "  2008.5  2008.4  2008.4  2008.5  2008.4  2008.5  2008.4  2008.4  2008.5\n",
      "  2008.4  2008.5  2008.4  2008.4  2008.5  2008.4  2008.4  2008.5  2008.4\n",
      "  2008.5  2008.4  2008.4  2008.5  2008.4  2008.5  2008.4  2008.4  2008.5\n",
      "  2008.4  2008.5  2008.4  2008.4  2008.5  2008.4  2008.4  2008.5  2008.4\n",
      "  2008.5  2008.4  2000.   6000.  10000.  14000.  18000.  22000.  26000.\n",
      " 30000.  34000.  38000.  42000.  46000.  50000.  54000.  58000.  62000.\n",
      " 66000.  66000. ]\n",
      "[2009.4 2009.4 2009.4 2009.4 2009.4 2009.4 2009.4 2009.4 2009.4 2009.4\n",
      " 2009.4 2009.5 2009.4 2009.4 2009.4 2009.4 2009.4 2009.4 2009.4 2009.4\n",
      " 2009.4 2009.4 2009.4 2009.4 2009.4 2009.4 2009.4 2009.4 2009.4 2009.4\n",
      " 2009.4 2009.4 2009.4 2009.4 2009.5 2009.4 2009.4 2009.4 2009.4 2009.4\n",
      " 2009.4 2009.4 2009.4 2009.4 2009.4 2009.4 2009.4 2009.4 2009.4 2009.4\n",
      " 2009.4 2009.4 2009.4 2009.4 2009.4 2009.4 2009.5 2009.4 2009.4 2009.4\n",
      " 2009.4 2009.4 2009.4 2009.4 2009.4 2009.4 2009.4 2009.4 2009.4 2009.4\n",
      " 2009.4 2009.4 2009.4 2009.4 2009.4 2009.4 2009.4 2009.4 2009.4 2009.5\n",
      " 2009.4 2009.4 2009.4 2009.4 2009.4 2009.4 2009.4 2009.4 2009.4 2009.4\n",
      " 2009.4 2009.4 2009.4 2009.4 2009.4 2009.4 2009.4 2009.4 2009.4 2009.4\n",
      " 2009.4 2009.4 2009.5 2009.4 2009.4 2009.4 2009.4 2009.4 2009.4 2009.4\n",
      " 2009.4 2009.4 2009.4 2009.4 2009.4 2009.4 2009.4 2009.4 2009.4 2009.4\n",
      " 2009.4 2009.4 2009.4 2009.4 2009.4 2009.5 2009.4 2009.4 2009.4 2009.4\n",
      " 2009.4 2009.4 2009.4 2009.4 2009.4 2009.4 2009.4 2009.4 2009.4 2009.4\n",
      " 2009.4 2009.4 2009.4 2009.4 2009.4 2009.4 2009.4 2009.4 2009.5 2009.4\n",
      " 2009.4 2009.4 2009.4 2009.4 2009.4 2009.4 2009.4 2009.4 2009.4 2009.4\n",
      " 2009.4 2009.4 2009.4 2009.4 2009.4 2009.4 2009.4 2009.4 2009.4 2009.4\n",
      " 2009.5 2009.4 2009.4 2009.4 2009.4 2009.4 2009.4 2009.4 2009.4 2009.4\n",
      " 2009.4 2009.4 2009.4 2009.4 2009.4 2009.4 2009.4 2009.4 2009.4 2009.4\n",
      " 2009.4 2009.4 2009.4 2009.5 2009.4 2009.4 2009.4 2009.4 2009.4 2009.4\n",
      " 2009.4 2009.4 2009.4 2009.4 2009.4 2009.4 2009.4 2009.4 2009.4 2009.4\n",
      " 2009.4 2009.4 2009.4 2009.4 2009.4 2009.4 2009.5 2009.4 2009.4 2009.4\n",
      " 2009.4 2009.4 2009.4 2009.4 2009.4 2009.4 2009.4 2009.4 2009.4 2009.4\n",
      " 2009.4 2009.4 2009.4 2009.4 2009.4 2009.4 2009.4 2009.4 2009.4 2009.5\n",
      " 2009.4 2009.4 2009.4 2009.4 2009.4 2009.4 2009.4 2009.4 2009.4 2009.4\n",
      " 2009.4 2009.4 2009.4 2009.4 2009.4 2009.4 2009.4 2009.4 2009.4 2009.4\n",
      " 2009.4 2009.4 2009.5 2009.4 2009.4 2009.4 2009.4 2009.4 2009.4 2009.4\n",
      " 2009.4 2009.4 2009.4 2009.4 2009.4 2009.4 2009.4 2009.4 2009.4 2009.4\n",
      " 2009.4 2009.4 2009.4 2009.4 2009.5 2009.4 2009.4 2009.4 2009.4 2009.4\n",
      " 2009.4 2009.4 2009.4 2009.4 2009.4 2009.4 2009.4 2009.4 2009.4 2009.4\n",
      " 2009.4 2009.4 2009.4 2009.4 2009.4 2009.4 2009.4 2009.5 2009.4 2009.4\n",
      " 2009.4 2009.4 2009.4 2009.4 2009.4 2009.4 2009.4 2009.4 2009.4 2009.4]\n"
     ]
    }
   ],
   "source": [
    "# Build grid spacing vectors dx and dy \n",
    "delx = x_vect[1:]-x_vect[:-1]\n",
    "dely = y_vect[1:]-y_vect[:-1]\n",
    "dx = np.append(delx, [delx[-1]], axis=0) # This is not the best way to do this\n",
    "dy = np.append(dely, [dely[-1]], axis=0)\n",
    "\n",
    "#Check values:\n",
    "print(dx)\n",
    "print(dy)"
   ]
  },
  {
   "cell_type": "code",
   "execution_count": 12,
   "id": "faf4af3f-3dcf-4d0d-9a32-6417aa380b62",
   "metadata": {},
   "outputs": [],
   "source": [
    "# Set filenames for binary files and data type\n",
    "#bathy_fname = 'bahia_01_noShelf_bat.bin'\n",
    "#dx_fname = 'bahia_01_noShelf_dx.bin'\n",
    "#dy_fname = 'bahia_01_noShelf_dy.bin'\n",
    "#dt = np.dtype('>f8')  # float 64 big endian"
   ]
  },
  {
   "cell_type": "code",
   "execution_count": 13,
   "id": "228ba884-48f2-42b9-8597-7b72d37ff66e",
   "metadata": {},
   "outputs": [
    {
     "data": {
      "text/plain": [
       "272"
      ]
     },
     "execution_count": 13,
     "metadata": {},
     "output_type": "execute_result"
    }
   ],
   "source": [
    "len(dx)"
   ]
  },
  {
   "cell_type": "code",
   "execution_count": 14,
   "id": "2f7cb9ff-b2d6-4ca1-bf96-5b765c64ea9e",
   "metadata": {},
   "outputs": [],
   "source": [
    "bathy_fname = 'nobahia_01_expand_bat.bin'\n",
    "dx_fname = 'nobahia_01_expand_dx.bin'\n",
    "dy_fname = 'nobahia_01_expand_dy.bin'\n",
    "dt = np.dtype('>f8')  # float 64 big endian"
   ]
  },
  {
   "cell_type": "code",
   "execution_count": 15,
   "id": "4de0693a-e94f-47f2-929e-110703cc1daa",
   "metadata": {},
   "outputs": [
    {
     "data": {
      "image/png": "[encoded data removed]",
      "text/plain": [
       "<Figure size 640x480 with 2 Axes>"
      ]
     },
     "metadata": {},
     "output_type": "display_data"
    }
   ],
   "source": [
    "# Save binary files for dx, dy, bathy\n",
    "fileobj = open(dx_fname,mode='wb')\n",
    "dx.astype(dt).tofile(fileobj,\"\")\n",
    "fileobj.close()\n",
    "\n",
    "fileobj = open(dy_fname, mode='wb')\n",
    "dy.astype(dt).tofile(fileobj,\"\")\n",
    "fileobj.close()\n",
    "\n",
    "fileobj = open(bathy_fname, mode='wb')\n",
    "dd=bathy\n",
    "dd.astype(dt).tofile(fileobj,\"\")\n",
    "fileobj.close()\n",
    "\n",
    "# Quick check\n",
    "plt.pcolor(dd, cmap=cmo.cm.deep_r)\n",
    "plt.colorbar()\n",
    "plt.contour(dd, levels=[-1,0], colors='k')\n",
    "plt.show()"
   ]
  },
  {
   "cell_type": "code",
   "execution_count": 16,
   "id": "adfad72d-6888-4608-9b23-960dc7ff18c1",
   "metadata": {},
   "outputs": [
    {
     "data": {
      "text/plain": [
       "<matplotlib.contour.QuadContourSet at 0x31a18da30>"
      ]
     },
     "execution_count": 16,
     "metadata": {},
     "output_type": "execute_result"
    },
    {
     "data": {
      "image/png": "[encoded data removed]",
      "text/plain": [
       "<Figure size 500x500 with 2 Axes>"
      ]
     },
     "metadata": {},
     "output_type": "display_data"
    }
   ],
   "source": [
    "# Check it is read correctly\n",
    "cc=np.fromfile(bathy_fname, dtype=dt)\n",
    "np.shape(cc)\n",
    "\n",
    "nx= len(x_vect)\n",
    "ny= len(y_vect)\n",
    "bF=np.reshape(cc,[nx,ny],'F') # F to read in Fortran order\n",
    "\n",
    "fig,ax = plt.subplots(1,1, figsize=(5,5))\n",
    "\n",
    "pc = ax.pcolormesh(bF, cmap=cmo.cm.deep_r)\n",
    "plt.colorbar(pc,ax=ax)\n",
    "ax.contour(bF, levels=[-20,0], colors='k')"
   ]
  },
  {
   "cell_type": "markdown",
   "id": "7ffef5a2-2513-416f-8e27-27a49253a393",
   "metadata": {
    "tags": []
   },
   "source": [
    "Yes, that is how it should look to go into MITgcm."
   ]
  },
  {
   "cell_type": "code",
   "execution_count": 17,
   "id": "54642050-3b77-4a0a-a310-2e10621c0b09",
   "metadata": {},
   "outputs": [
    {
     "name": "stdout",
     "output_type": "stream",
     "text": [
      "Variable          Type              Data/Info\n",
      "---------------------------------------------\n",
      "Dataset           type              <class 'netCDF4._netCDF4.Dataset'>\n",
      "DelX              int               2000\n",
      "NamespaceMagics   MetaHasTraits     <class 'IPython.core.magi<...>mespace.NamespaceMagics'>\n",
      "Xog               ndarray           3235x2490: 8055150 elems, type `float32`, 32220600 bytes (30.72795867919922 Mb)\n",
      "Yog               ndarray           3235x2490: 8055150 elems, type `float32`, 32220600 bytes (30.72795867919922 Mb)\n",
      "Z                 ndarray           3235x2490: 8055150 elems, type `float32`, 32220600 bytes (30.72795867919922 Mb)\n",
      "ax                Axes              Axes(0.125,0.11;0.62x0.77)\n",
      "bF                ndarray           272x320: 87040 elems, type `>f8`, 696320 bytes (680.0 kb)\n",
      "bathy             ndarray           320x272: 87040 elems, type `float64`, 696320 bytes (680.0 kb)\n",
      "bathy_fname       str               nobahia_01_expand_bat.bin\n",
      "cb                Colorbar          <matplotlib.colorbar.Colo<...>ar object at 0x173750dd0>\n",
      "cc                ndarray           87040: 87040 elems, type `>f8`, 696320 bytes (680.0 kb)\n",
      "cmo               module            <module 'cmocean' from '/<...>ges/cmocean/__init__.py'>\n",
      "dd                ndarray           320x272: 87040 elems, type `float64`, 696320 bytes (680.0 kb)\n",
      "delx              ndarray           271: 271 elems, type `float64`, 2168 bytes\n",
      "dely              ndarray           319: 319 elems, type `float64`, 2552 bytes\n",
      "dt                Float64DType      >f8\n",
      "dx                ndarray           272: 272 elems, type `float64`, 2176 bytes\n",
      "dx_fname          str               nobahia_01_expand_dx.bin\n",
      "dy                ndarray           320: 320 elems, type `float64`, 2560 bytes\n",
      "dy_fname          str               nobahia_01_expand_dy.bin\n",
      "f_interp          interp2d          <scipy.interpolate._inter<...>2d object at 0x1688cc1d0>\n",
      "fig               Figure            Figure(500x500)\n",
      "fileobj           BufferedWriter    <_io.BufferedWriter name=<...>bahia_01_expand_bat.bin'>\n",
      "get_ipython       function          <function get_ipython at 0x106e22480>\n",
      "i_values          ndarray           17: 17 elems, type `int64`, 136 bytes\n",
      "i_values_y        ndarray           9: 9 elems, type `int64`, 72 bytes\n",
      "ii                int               184\n",
      "json              module            <module 'json' from '/opt<...>on3.12/json/__init__.py'>\n",
      "k                 int               2000\n",
      "nbl               Dataset           <object with id 6220642880 (str() failed)>\n",
      "nc_file           str               nobahia01_expand_bat.nc\n",
      "np                module            <module 'numpy' from '/op<...>kages/numpy/__init__.py'>\n",
      "nx                int               272\n",
      "nx_center         int               238\n",
      "ny                int               320\n",
      "pc                QuadMesh          <matplotlib.collections.Q<...>sh object at 0x168caea50>\n",
      "plt               module            <module 'matplotlib.pyplo<...>es/matplotlib/pyplot.py'>\n",
      "sci_interp        module            <module 'scipy.interpolat<...>interpolate/__init__.py'>\n",
      "sys               module            <module 'sys' (built-in)>\n",
      "x_center          ndarray           238: 238 elems, type `float64`, 1904 bytes\n",
      "x_left            ndarray           17: 17 elems, type `float64`, 136 bytes\n",
      "x_max_center      float             238000.0\n",
      "x_max_expand      float             843000.0\n",
      "x_min_center      float             -238000.0\n",
      "x_min_expand      float             -843000.0\n",
      "x_right           ndarray           17: 17 elems, type `float64`, 136 bytes\n",
      "x_vect            ndarray           272: 272 elems, type `float64`, 2176 bytes\n",
      "y_center          ndarray           320: 320 elems, type `float64`, 2560 bytes\n",
      "y_expand          ndarray           9: 9 elems, type `float64`, 72 bytes\n",
      "y_max             float             139000.0\n",
      "y_min             float             -502000.0\n",
      "y_min_expand      int               -682000\n",
      "y_vect            ndarray           320: 320 elems, type `float64`, 2560 bytes\n"
     ]
    }
   ],
   "source": [
    "%whos"
   ]
  },
  {
   "cell_type": "code",
   "execution_count": null,
   "id": "934d68be-211e-4801-bcfa-a8d376b94d89",
   "metadata": {},
   "outputs": [],
   "source": []
  },
  {
   "cell_type": "code",
   "execution_count": 18,
   "id": "5a1e3646-bab9-4a00-8845-11ca15ef4729",
   "metadata": {},
   "outputs": [],
   "source": [
    "sNx =   17\n",
    "sNy =   20\n",
    "OLx =   3\n",
    "OLy =   3\n",
    "nSx =   16\n",
    "nSy =   16\n",
    "nPx =   1\n",
    "nPy =   1\n",
    "Nx  = sNx*nSx*nPx \n",
    "Ny  = sNy*nSy*nPy"
   ]
  },
  {
   "cell_type": "code",
   "execution_count": 19,
   "id": "a74cf226-3e35-46ef-93e0-fc46f898952b",
   "metadata": {},
   "outputs": [
    {
     "data": {
      "text/plain": [
       "20.0"
      ]
     },
     "execution_count": 19,
     "metadata": {},
     "output_type": "execute_result"
    }
   ],
   "source": [
    "320/16"
   ]
  },
  {
   "cell_type": "code",
   "execution_count": 20,
   "id": "6a0cde09-e23a-4638-ac81-4aa1e29d8305",
   "metadata": {},
   "outputs": [
    {
     "data": {
      "text/plain": [
       "272"
      ]
     },
     "execution_count": 20,
     "metadata": {},
     "output_type": "execute_result"
    }
   ],
   "source": [
    "Nx"
   ]
  },
  {
   "cell_type": "code",
   "execution_count": 21,
   "id": "8a890419-7f3d-4431-8cea-c3f73ad1a07a",
   "metadata": {},
   "outputs": [
    {
     "data": {
      "text/plain": [
       "320"
      ]
     },
     "execution_count": 21,
     "metadata": {},
     "output_type": "execute_result"
    }
   ],
   "source": [
    "Ny"
   ]
  },
  {
   "cell_type": "code",
   "execution_count": null,
   "id": "50a43fe9-cc3f-4c15-a611-fcbaa9c35658",
   "metadata": {},
   "outputs": [],
   "source": []
  },
  {
   "cell_type": "code",
   "execution_count": null,
   "id": "e378421d-658c-4705-a3d0-ff3f85afb386",
   "metadata": {},
   "outputs": [],
   "source": []
  },
  {
   "cell_type": "code",
   "execution_count": null,
   "id": "938770c0-56af-4b1a-8fa0-1fbba3e66876",
   "metadata": {},
   "outputs": [],
   "source": []
  }
 ],
 "metadata": {
  "kernelspec": {
   "display_name": "Python 3 (ipykernel)",
   "language": "python",
   "name": "python3"
  },
  "language_info": {
   "codemirror_mode": {
    "name": "ipython",
    "version": 3
   },
   "file_extension": ".py",
   "mimetype": "text/x-python",
   "name": "python",
   "nbconvert_exporter": "python",
   "pygments_lexer": "ipython3",
   "version": "3.12.4"
  }
 },
 "nbformat": 4,
 "nbformat_minor": 5
}
