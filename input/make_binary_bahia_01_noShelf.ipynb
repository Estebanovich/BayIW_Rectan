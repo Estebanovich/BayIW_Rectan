{
 "cells": [
  {
   "cell_type": "markdown",
   "metadata": {},
   "source": [
    " ## Make bathymetry binary file based on netCDF bathy file bahia01_expand_bat.nc\n",
    "\n",
    "\n",
    "\n",
    " In this notebook we prepare a bathymetry file for MITgcm based on the bathymetry developed by Esteban Cruz of a semi circular bay with no shelf (only slope). The bay is 120 km long and has a maximum depth of 160 m. The maximum depth in the domain is 1000 m.\n",
    "\n",
    "\n",
    "\n",
    " We will make a bathymetry for a domain of size nx = 272, ny = 320, and a horizontal spacing of approximately 2 km (a coarse bathymetry, the real dx is 1.983 km and dy is 2.327 km).\n",
    "\n",
    "\n",
    "\n",
    " The model will have 40 z levels of varying dz (starting from 2 m at the surface and increasing in thickness by 10.45% with each level).\n",
    "\n",
    "\n",
    "\n",
    " The next bathimetries will include an elongated domain alongshore of increasing dx (telescopic) to avoid recirculation since AS boundaries will be periodic, and longer cross-shelf distance."
   ]
  },
  {
   "cell_type": "code",
   "execution_count": 1,
   "metadata": {},
   "outputs": [],
   "source": [
    "from netCDF4 import Dataset\n",
    "import cmocean as cmo\n",
    "import matplotlib.pyplot as plt\n",
    "import numpy as np \n",
    "import scipy.interpolate as sci_interp\n"
   ]
  },
  {
   "cell_type": "code",
   "execution_count": 3,
   "metadata": {},
   "outputs": [
    {
     "name": "stdout",
     "output_type": "stream",
     "text": [
      "{'X': <class 'netCDF4._netCDF4.Variable'>\n",
      "float32 X(y, x)\n",
      "    units: meters\n",
      "    description: Coordenadas X del dominio\n",
      "unlimited dimensions: \n",
      "current shape = (1795, 2380)\n",
      "filling on, default _FillValue of 9.969209968386869e+36 used, 'Y': <class 'netCDF4._netCDF4.Variable'>\n",
      "float32 Y(y, x)\n",
      "    units: meters\n",
      "    description: Coordenadas Y del dominio\n",
      "unlimited dimensions: \n",
      "current shape = (1795, 2380)\n",
      "filling on, default _FillValue of 9.969209968386869e+36 used, 'Z': <class 'netCDF4._netCDF4.Variable'>\n",
      "float32 Z(y, x)\n",
      "    units: meters\n",
      "    description: Datos de profundidad del dominio Z\n",
      "unlimited dimensions: \n",
      "current shape = (1795, 2380)\n",
      "filling on, default _FillValue of 9.969209968386869e+36 used, 'Z_sm': <class 'netCDF4._netCDF4.Variable'>\n",
      "float32 Z_sm(y, x)\n",
      "    units: meters\n",
      "    description: Datos suavizados de profundidad del dominio Z\n",
      "unlimited dimensions: \n",
      "current shape = (1795, 2380)\n",
      "filling on, default _FillValue of 9.969209968386869e+36 used}\n"
     ]
    }
   ],
   "source": [
    "\n",
    "nc_file = 'bahia01_noShelf_bat.nc'\n",
    "\n",
    "with Dataset(nc_file, 'r') as nbl:\n",
    "    print(nbl.variables)\n"
   ]
  },
  {
   "cell_type": "code",
   "execution_count": 4,
   "metadata": {},
   "outputs": [],
   "source": [
    "with Dataset(nc_file, 'r') as nbl:\n",
    "    Xog = nbl.variables['X'][:].data\n",
    "    Yog = nbl.variables['Y'][:].data\n",
    "    Z = nbl.variables['Z_sm'][:].data\n"
   ]
  },
  {
   "cell_type": "code",
   "execution_count": 5,
   "metadata": {},
   "outputs": [
    {
     "data": {
      "text/plain": [
       "((1795, 2380), (1795, 2380), (1795, 2380))"
      ]
     },
     "execution_count": 5,
     "metadata": {},
     "output_type": "execute_result"
    }
   ],
   "source": [
    "Xog.shape, Yog.shape, Z.shape\n"
   ]
  },
  {
   "cell_type": "code",
   "execution_count": 6,
   "metadata": {},
   "outputs": [
    {
     "name": "stdout",
     "output_type": "stream",
     "text": [
      "[200.01562 200.      200.01562 ... 200.      200.01562 200.01562] [0. 0. 0. ... 0. 0. 0.]\n"
     ]
    }
   ],
   "source": [
    "DeltaX = np.diff(Xog)[0]\n",
    "DeltaY = np.diff(Yog)[1]\n",
    "print(DeltaX, DeltaY)\n",
    "\n"
   ]
  },
  {
   "cell_type": "code",
   "execution_count": 7,
   "metadata": {},
   "outputs": [
    {
     "name": "stdout",
     "output_type": "stream",
     "text": [
      "left x-limit is -238000.0 m, and right x-limit is 237820.0 m\n",
      "bottom y-limit is -62000.0 m, and top y-limit is 356789.90625 m\n"
     ]
    }
   ],
   "source": [
    "# Show corners of the original bathymetry\n",
    "print(f'left x-limit is {np.min(Xog)} m, and right x-limit is {np.max(Xog)} m')\n",
    "print(f'bottom y-limit is {np.min(Yog)} m, and top y-limit is {np.max(Yog)} m')\n"
   ]
  },
  {
   "cell_type": "code",
   "execution_count": null,
   "metadata": {},
   "outputs": [],
   "source": [
    "682000 +139E3\n",
    "\n"
   ]
  },
  {
   "cell_type": "code",
   "execution_count": null,
   "metadata": {},
   "outputs": [],
   "source": [
    "DeltaX = 200\n",
    "nx_center = 238\n",
    "x_max_center = DeltaX* nx_center/2\n",
    "#DelX=int((2*x_max_center)/nx_center)\n",
    "print(f'nx_center = {nx_center}, x_max_center = {x_max_center} m, DeltaX = {DeltaX} m')\n",
    "\n",
    "DeltaY = 200\n",
    "y_max = 139E3 # m\n",
    "y_min = -62E3-8E3 # m\n",
    "Distance = y_max - y_min\n",
    "ny = int(Distance/DeltaY)\n",
    "\n",
    "print(f'ny = {ny}, y_max = {y_max} m, y_min = {y_min} m, DeltaY = {DeltaY} m')\n",
    "\n",
    "y_center = np.round(np.linspace(y_min, y_max ,ny), decimals=1)\n",
    "dely= y_center[1:]-y_center[:-1]\n",
    "print(f'ny = {ny}, y_center = {y_center}, dely = {dely}')\n"
   ]
  },
  {
   "cell_type": "code",
   "execution_count": null,
   "metadata": {},
   "outputs": [],
   "source": [
    "#Despues debemos quitar los puntos de costa extra que no necesitamos\n",
    "# Sabemos que la costa esta en y = 0 m, la cabeza de labahia esta en y = 20000 m\n",
    "# y el talud de la bahia esta en y = -62000 m y de ahí dejamos -62000 -8000\n",
    "y_center = y_center[y_center>-70000]\n",
    "#y_center = y_center[y_center<20000]\n",
    "ny = len(y_center)\n",
    "print(f'ny = {ny}, y_center = {y_center}')\n"
   ]
  },
  {
   "cell_type": "code",
   "execution_count": null,
   "metadata": {},
   "outputs": [],
   "source": [
    "# Build x and y arrays for new bathymetry\n",
    "# Set desired number of grid points along x and y\n",
    "nx_center = 238 #De esta manera tenemos delX=2000 m\n",
    "ny = 1045 #originalmente era 320\n",
    "x_min_center = -238E2 # m Originalmente era -238E3\n",
    "x_max_center =  238E2 # m Originalmente era 238E3\n",
    "x_min_expand = - 843E3 # m\n",
    "x_max_expand =  843E3 # m\n",
    "y_min = -62E3-8E3 # m originalmente era -62E3 -440E2\n",
    "y_min_expand = -682000 # m\n",
    "y_max = 139E3 # m\n",
    "\n",
    "DelX=int((2*x_max_center)/nx_center)\n",
    "\n",
    "# Crear dominios en las regiones exteriores (-4L a -2L y 2L a 4L) con crecimiento cuadrático\n",
    "# Aseguramos que el primer incremento sea 20 m usando un factor adecuado 'k'.\n",
    "k = DelX # Ajustamos k para que el primer incremento sea 20 m\n",
    "# Crear el vector para la expansión del lado derecho de forma más eficiente\n",
    "i_values = np.arange(1, int(np.sqrt((x_max_expand - x_max_center) / k)) + 1)\n",
    "i_values_y = np.arange(1, int(np.sqrt((np.abs(y_min_expand) - np.abs(y_min)) / k)) + 1)\n",
    "x_right = x_max_center + k * i_values**2\n",
    "y_expand = y_min - (k * i_values_y**2)\n",
    "# Crear el vector para la expansión del lado izquierdo al reflejar y ordenar\n",
    "x_left = -np.flip(x_right)\n",
    "y_expand = np.flip(y_expand)\n",
    "# Quitar los valores que se superponen con el centro\n",
    "#x_left = x_left[:-1]\n",
    "#x_right = x_right[1:]\n",
    "#y_expand = y_expand[:-1]\n",
    "# Crear el centro del dominio\n",
    "x_center = np.round(np.linspace(x_min_center, x_max_center, nx_center), decimals=1)\n",
    "\n",
    "# Unir todas las regiones para formar el dominio completo en X\n",
    "x_vect = np.concatenate((x_left, x_center, x_right))\n",
    "\n",
    "y_center = np.round(np.linspace(y_min, y_max ,ny), decimals=1)\n",
    "y_vect = np.concatenate((y_expand, y_center))\n",
    "#y_vect = np.round(np.linspace(y_min, y_max ,ny), decimals=1)\n",
    "\n",
    "# Create interp function from original x, y and depth\n",
    "f_interp = sci_interp.interp2d(Xog[0,:], Yog[:,0], Z)\n",
    "\n",
    "# Interpolate into desired x and y vectors\n",
    "bathy = f_interp(x_vect,y_vect)\n"
   ]
  },
  {
   "cell_type": "code",
   "execution_count": null,
   "metadata": {},
   "outputs": [],
   "source": [
    "delx = x_center[1:]-x_center[:-1]\n",
    "dely = y_center[1:]-y_center[:-1]\n",
    "print(f'x_center.shape = {x_center.shape}, y_center.shape = {y_center.shape}')\n",
    "print(f'delx.shape = {delx.shape}, dely.shape = {dely.shape}')\n",
    "print(delx, dely)\n"
   ]
  },
  {
   "cell_type": "code",
   "execution_count": null,
   "metadata": {},
   "outputs": [],
   "source": [
    "print(bathy.shape)\n",
    "print(y_vect.shape)\n"
   ]
  },
  {
   "cell_type": "code",
   "execution_count": null,
   "metadata": {},
   "outputs": [],
   "source": [
    "# Construimos una máscara booleana\n",
    "mask_Ydomain = (y_vect < 20000)  # array de True/False, longitud = len(y_vect)\n",
    "\n",
    "# Aplicamos la máscara tanto a bathy como a y_vect\n",
    "bathy_sub = bathy[mask_Ydomain, :]   # Filtramos filas\n",
    "y_vect_sub = y_vect[mask_Ydomain]    # Filtramos las coordenadas y\n",
    "print(f'bathy.shape = {bathy.shape}')\n",
    "print(f'bathy_sub.shape = {bathy_sub.shape}')\n",
    "\n"
   ]
  },
  {
   "cell_type": "code",
   "execution_count": null,
   "metadata": {},
   "outputs": [],
   "source": [
    "y_vect_sub[2]\n"
   ]
  },
  {
   "cell_type": "code",
   "execution_count": null,
   "metadata": {},
   "outputs": [],
   "source": [
    "#Necesitoamos que nx=272 y ny=320, entonces seccionamos bathy y y_vect\n",
    "# Con las nuevas dimensiones de la bahía\n",
    "#  Necesitamos (ny=496, nx=352) y actualmente tenemos (ny= 505, nx= 366)\n",
    "# Entonces necesitamos cortar 9 filas y 14 columnas \n",
    "#Modificamos las dimensiones de la bahía\n",
    "bathy=bathy_sub\n",
    "y_vect = y_vect_sub\n",
    "\n",
    "#Recortamos las columnas de manera simétrica (el dominio en x)\n",
    "bathy=bathy[:,7:-7]\n",
    "x_vect = x_vect[7:-7]\n",
    "print(x_vect.shape)\n",
    "\n",
    "#Recortamos las filas (el dominio en y)\n",
    "bathy=bathy[9:,:]\n",
    "y_vect = y_vect_sub\n",
    "y_vect = y_vect[9:]\n",
    "\n",
    "print(bathy.shape)\n",
    "print(y_vect.shape)\n"
   ]
  },
  {
   "cell_type": "code",
   "execution_count": null,
   "metadata": {},
   "outputs": [],
   "source": [
    "#x_vect = x_vect[7:-7]\n",
    "print(x_vect.shape)\n",
    "print(y_vect.shape)\n"
   ]
  },
  {
   "cell_type": "code",
   "execution_count": null,
   "metadata": {},
   "outputs": [],
   "source": [
    "# Plot interp bathymetry\n",
    "\n",
    "fig, ax = plt.subplots(1,1,figsize=(9,7))\n",
    "pc = ax.pcolormesh(x_vect/1000,y_vect/1000,bathy, cmap=cmo.cm.deep_r)\n",
    "cb = plt.colorbar(pc)\n",
    "\n",
    "ax.contour(x_vect/1000,y_vect/1000,-bathy, colors='0.5', levels=[250])\n",
    "ax.contour(x_vect/1000,y_vect/1000,-bathy, colors='k', levels=[0])\n",
    "\n",
    "cb.set_label('profundidad / m')\n",
    "ax.set_xlabel('Distancia meriodional (km)')\n",
    "ax.set_ylabel('Distancia zonal (km)')\n",
    "\n",
    "ax.set_aspect(1)\n",
    "\n",
    "# Save the plot as a PNG file\n",
    "file_path = \"dominio_bath.png\"\n",
    "plt.savefig(file_path, dpi=300)\n",
    "file_path\n"
   ]
  },
  {
   "cell_type": "code",
   "execution_count": null,
   "metadata": {},
   "outputs": [],
   "source": [
    "# Check some cross-shelf profiles starting from the center of the bay (0 km)\n",
    "for ii in range(120,186,8):\n",
    "    plt.plot(y_vect[:]/1E3,bathy[:,ii], label=f'{x_vect[ii]/1E3:1.1f} km')\n",
    "plt.legend()\n",
    "plt.xlabel('Cross-shelf distance (km)')\n",
    "plt.ylabel('Depth (m)')\n"
   ]
  },
  {
   "cell_type": "code",
   "execution_count": null,
   "metadata": {},
   "outputs": [],
   "source": [
    "# Build grid spacing vectors dx and dy \n",
    "delx = x_vect[1:]-x_vect[:-1]\n",
    "dely = y_vect[1:]-y_vect[:-1]\n",
    "dx = np.append(delx, [delx[-1]], axis=0) # This is not the best way to do this\n",
    "dy = np.append(dely, [dely[-1]], axis=0)\n",
    "\n",
    "#Check values:\n",
    "print(dx)\n",
    "print(dy)\n",
    "\n"
   ]
  },
  {
   "cell_type": "code",
   "execution_count": null,
   "metadata": {},
   "outputs": [],
   "source": [
    "len(dx)\n"
   ]
  },
  {
   "cell_type": "code",
   "execution_count": null,
   "metadata": {},
   "outputs": [],
   "source": [
    "bathy_fname = 'bahia_01_noShelf_bat.bin'\n",
    "dx_fname = 'bahia_01_noShelf_dx.bin'\n",
    "dy_fname = 'bahia_01_noShelf_dy.bin'\n",
    "dt = np.dtype('>f8')  # float 64 big endian\n"
   ]
  },
  {
   "cell_type": "code",
   "execution_count": null,
   "metadata": {},
   "outputs": [],
   "source": [
    "# Save binary files for dx, dy, bathy\n",
    "fileobj = open(dx_fname,mode='wb')\n",
    "dx.astype(dt).tofile(fileobj,\"\")\n",
    "fileobj.close()\n",
    "\n",
    "fileobj = open(dy_fname, mode='wb')\n",
    "dy.astype(dt).tofile(fileobj,\"\")\n",
    "fileobj.close()\n",
    "\n",
    "fileobj = open(bathy_fname, mode='wb')\n",
    "dd=bathy\n",
    "dd.astype(dt).tofile(fileobj,\"\")\n",
    "fileobj.close()\n",
    "\n",
    "# Quick check\n",
    "plt.pcolor(dd, cmap=cmo.cm.deep_r)\n",
    "plt.colorbar()\n",
    "plt.contour(dd, levels=[-1,0], colors='k')\n",
    "plt.show()\n"
   ]
  },
  {
   "cell_type": "code",
   "execution_count": null,
   "metadata": {},
   "outputs": [],
   "source": [
    "# Check it is read correctly\n",
    "cc=np.fromfile(bathy_fname, dtype=dt)\n",
    "np.shape(cc)\n",
    "\n",
    "nx= len(x_vect)\n",
    "ny= len(y_vect)\n",
    "bF=np.reshape(cc,[nx,ny],'F') # F to read in Fortran order\n",
    "\n",
    "fig,ax = plt.subplots(1,1, figsize=(5,5))\n",
    "\n",
    "pc = ax.pcolormesh(bF, cmap=cmo.cm.deep_r)\n",
    "plt.colorbar(pc,ax=ax)\n",
    "ax.contour(bF, levels=[-20,0], colors='k')\n"
   ]
  },
  {
   "cell_type": "markdown",
   "metadata": {},
   "source": [
    " Yes, that is how it should look to go into MITgcm."
   ]
  }
 ],
 "metadata": {
  "kernelspec": {
   "display_name": "base",
   "language": "python",
   "name": "python3"
  },
  "language_info": {
   "codemirror_mode": {
    "name": "ipython",
    "version": 3
   },
   "file_extension": ".py",
   "mimetype": "text/x-python",
   "name": "python",
   "nbconvert_exporter": "python",
   "pygments_lexer": "ipython3",
   "version": "3.12.4"
  }
 },
 "nbformat": 4,
 "nbformat_minor": 2
}
